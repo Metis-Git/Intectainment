{
 "cells": [
  {
   "cell_type": "code",
   "execution_count": 2,
   "metadata": {},
   "outputs": [],
   "source": [
    "import ast"
   ]
  },
  {
   "cell_type": "code",
   "execution_count": 17,
   "metadata": {},
   "outputs": [
    {
     "name": "stdout",
     "output_type": "stream",
     "text": [
      "{'developer': 23, 'admin': 255, 'moderator': 100}\n"
     ]
    }
   ],
   "source": [
    "roles: dict = \n",
    "print(roles)"
   ]
  },
  {
   "cell_type": "code",
   "execution_count": 20,
   "metadata": {},
   "outputs": [
    {
     "name": "stdout",
     "output_type": "stream",
     "text": [
      "{'admin': 255, 'moderator': 100, 'developer': 23}\n"
     ]
    }
   ],
   "source": [
    "# sort dict small to big\n",
    "\n",
    "print(roles)\n"
   ]
  }
 ],
 "metadata": {
  "interpreter": {
   "hash": "fa6f24e21ba561439b9ab3f7d00e3d379207aee7e48da9e75e2c60f921a88f12"
  },
  "kernelspec": {
   "display_name": "Python 3.10.2 ('venv': venv)",
   "language": "python",
   "name": "python3"
  },
  "language_info": {
   "codemirror_mode": {
    "name": "ipython",
    "version": 3
   },
   "file_extension": ".py",
   "mimetype": "text/x-python",
   "name": "python",
   "nbconvert_exporter": "python",
   "pygments_lexer": "ipython3",
   "version": "3.10.2"
  },
  "orig_nbformat": 4
 },
 "nbformat": 4,
 "nbformat_minor": 2
}
